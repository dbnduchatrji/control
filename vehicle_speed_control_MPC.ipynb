{
  "nbformat": 4,
  "nbformat_minor": 0,
  "metadata": {
    "colab": {
      "name": "vehicle-speed-control-MPC.ipynb",
      "provenance": [],
      "authorship_tag": "ABX9TyNKYntcAd5c4WCK/RWzII2S",
      "include_colab_link": true
    },
    "kernelspec": {
      "name": "python3",
      "display_name": "Python 3"
    },
    "language_info": {
      "name": "python"
    }
  },
  "cells": [
    {
      "cell_type": "markdown",
      "metadata": {
        "id": "view-in-github",
        "colab_type": "text"
      },
      "source": [
        "<a href=\"https://colab.research.google.com/github/dchatterjee/control.vehicle-control/blob/main/vehicle_speed_control_MPC.ipynb\" target=\"_parent\"><img src=\"https://colab.research.google.com/assets/colab-badge.svg\" alt=\"Open In Colab\"/></a>"
      ]
    },
    {
      "cell_type": "code",
      "execution_count": 1,
      "metadata": {
        "colab": {
          "base_uri": "https://localhost:8080/"
        },
        "id": "DTYrouxNwmm5",
        "outputId": "4dd4e5dc-4e9c-49e5-a936-60c9822826f1"
      },
      "outputs": [
        {
          "output_type": "stream",
          "name": "stdout",
          "text": [
            "Collecting gekko\n",
            "  Downloading gekko-1.0.2-py3-none-any.whl (12.4 MB)\n",
            "\u001b[K     |████████████████████████████████| 12.4 MB 12.3 MB/s \n",
            "\u001b[?25hRequirement already satisfied: numpy>=1.8 in /usr/local/lib/python3.7/dist-packages (from gekko) (1.19.5)\n",
            "Installing collected packages: gekko\n",
            "Successfully installed gekko-1.0.2\n"
          ]
        }
      ],
      "source": [
        "!pip install gekko"
      ]
    },
    {
      "cell_type": "code",
      "source": [
        "from gekko import GEKKO\n",
        "import numpy as np\n",
        "import matplotlib.pyplot as plt  "
      ],
      "metadata": {
        "id": "kDfXWmy2w93V"
      },
      "execution_count": 2,
      "outputs": []
    },
    {
      "cell_type": "code",
      "source": [
        "m = GEKKO(remote=False)\n",
        "m.time = np.linspace(0,20,41)"
      ],
      "metadata": {
        "id": "8P6-PqgVxDaY"
      },
      "execution_count": 3,
      "outputs": []
    },
    {
      "cell_type": "code",
      "source": [
        "# Parameters\n",
        "mass = 500\n",
        "b = m.Param(value=50)\n",
        "K = m.Param(value=0.8)"
      ],
      "metadata": {
        "id": "WXbfE_ykxHO2"
      },
      "execution_count": 4,
      "outputs": []
    },
    {
      "cell_type": "code",
      "source": [
        "#manupulatable variable\n",
        "p = m.MV(value=0, lb=0, ub=100)\n",
        "p.STATUS = 1  # allow optimizer to change\n",
        "p.DCOST = 1 # smooth out gas pedal movement\n",
        "p.DMAX = 20   # slow down change of gas pedal"
      ],
      "metadata": {
        "id": "gLgfbTWLxJW3"
      },
      "execution_count": 5,
      "outputs": []
    },
    {
      "cell_type": "code",
      "source": [
        "# Controlled Variable\n",
        "v = m.CV(value=0)\n",
        "v.STATUS = 1  # add the SP to the objective\n",
        "m.options.CV_TYPE = 2 # squared error\n",
        "v.SP = 40     # set point\n",
        "v.TR_INIT = 1 # set point trajectory\n",
        "v.TAU = 5     # time constant of trajectory"
      ],
      "metadata": {
        "id": "-CHy0JyKxLMQ"
      },
      "execution_count": 6,
      "outputs": []
    },
    {
      "cell_type": "code",
      "source": [
        "# Process model\n",
        "m.Equation(mass*v.dt() == -v*b + K*b*p)\n",
        "\n",
        "m.options.IMODE = 6 # control\n",
        "m.solve(disp=True)"
      ],
      "metadata": {
        "colab": {
          "base_uri": "https://localhost:8080/"
        },
        "id": "2YTGw5olxNHz",
        "outputId": "bc19f231-6b47-40e2-c3a5-70a602c42356"
      },
      "execution_count": 7,
      "outputs": [
        {
          "output_type": "stream",
          "name": "stdout",
          "text": [
            " ----------------------------------------------------------------\n",
            " APMonitor, Version 1.0.1\n",
            " APMonitor Optimization Suite\n",
            " ----------------------------------------------------------------\n",
            " \n",
            " \n",
            " --------- APM Model Size ------------\n",
            " Each time step contains\n",
            "   Objects      :            0\n",
            "   Constants    :            0\n",
            "   Variables    :            4\n",
            "   Intermediates:            0\n",
            "   Connections  :            0\n",
            "   Equations    :            1\n",
            "   Residuals    :            1\n",
            " \n",
            " Number of state variables:            360\n",
            " Number of total equations: -          320\n",
            " Number of slack variables: -            0\n",
            " ---------------------------------------\n",
            " Degrees of freedom       :             40\n",
            " \n",
            " solver            3  not supported\n",
            " using default solver: APOPT\n",
            " ----------------------------------------------\n",
            " Dynamic Control with APOPT Solver\n",
            " ----------------------------------------------\n",
            " \n",
            " Iter    Objective  Convergence\n",
            "    0  4.46755E+06  9.75000E+00\n",
            "    1  5.13268E+07  9.50626E+00\n",
            "    2  1.68386E+08  9.28821E+00\n",
            "    3  1.61754E+08  9.07491E+00\n",
            "    4  7.53281E+05  6.88969E-01\n",
            "    5 -7.33797E+05  6.24694E-05\n",
            "    6  5.22876E+03  1.02924E+01\n",
            "    7  5.22105E+03  1.43702E-04\n",
            "    8  5.22105E+03  7.10543E-15\n",
            "    9  5.22105E+03  7.10543E-15\n",
            " Successful solution\n",
            " \n",
            " ---------------------------------------------------\n",
            " Solver         :  IPOPT (v3.12)\n",
            " Solution time  :   4.850000000442378E-002 sec\n",
            " Objective      :    5221.04727048753     \n",
            " Successful solution\n",
            " ---------------------------------------------------\n",
            " \n",
            "\n"
          ]
        }
      ]
    },
    {
      "cell_type": "code",
      "source": [
        "# get additional solution information\n",
        "import json\n",
        "with open(m.path+'//results.json') as f:\n",
        "    results = json.load(f)"
      ],
      "metadata": {
        "id": "fGLKKLasxPJD"
      },
      "execution_count": 8,
      "outputs": []
    },
    {
      "cell_type": "code",
      "source": [
        "plt.figure()\n",
        "plt.subplot(2,1,1)\n",
        "plt.plot(m.time,p.value,'b-',label='MV Optimized')\n",
        "plt.legend()\n",
        "plt.ylabel('Input')\n",
        "plt.subplot(2,1,2)\n",
        "plt.plot(m.time,results['v1.tr'],'k-',label='Reference Trajectory')\n",
        "plt.plot(m.time,v.value,'r--',label='CV Response')\n",
        "plt.ylabel('Output')\n",
        "plt.xlabel('Time')\n",
        "plt.legend(loc='best')\n",
        "plt.show()"
      ],
      "metadata": {
        "colab": {
          "base_uri": "https://localhost:8080/",
          "height": 282
        },
        "id": "OFojDxE5xSZn",
        "outputId": "2ed8557a-577f-4c1c-de3f-546f587cbcfa"
      },
      "execution_count": 9,
      "outputs": [
        {
          "output_type": "display_data",
          "data": {
            "image/png": "[encoded data removed]",
            "text/plain": [
              "<Figure size 432x288 with 2 Axes>"
            ]
          },
          "metadata": {
            "needs_background": "light"
          }
        }
      ]
    },
    {
      "cell_type": "code",
      "source": [
        ""
      ],
      "metadata": {
        "id": "xMqc8gS6xUZO"
      },
      "execution_count": null,
      "outputs": []
    }
  ]
}