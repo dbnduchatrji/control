{
  "nbformat": 4,
  "nbformat_minor": 0,
  "metadata": {
    "colab": {
      "name": "velocity_control_PID.ipynb",
      "provenance": [],
      "authorship_tag": "ABX9TyMowbapreZ/bYSHzeGB3KwI",
      "include_colab_link": true
    },
    "kernelspec": {
      "name": "python3",
      "display_name": "Python 3"
    },
    "language_info": {
      "name": "python"
    }
  },
  "cells": [
    {
      "cell_type": "markdown",
      "metadata": {
        "id": "view-in-github",
        "colab_type": "text"
      },
      "source": [
        "<a href=\"https://colab.research.google.com/github/dchatterjee/control.vehicle-control/blob/main/velocity_control_PID.ipynb\" target=\"_parent\"><img src=\"https://colab.research.google.com/assets/colab-badge.svg\" alt=\"Open In Colab\"/></a>"
      ]
    },
    {
      "cell_type": "code",
      "execution_count": 1,
      "metadata": {
        "id": "I3kXgRw5rrgh"
      },
      "outputs": [],
      "source": [
        "import numpy as np\n",
        "import matplotlib.pyplot as plt\n",
        "from scipy.integrate import odeint\n",
        "from IPython import display"
      ]
    },
    {
      "cell_type": "code",
      "source": [
        "animate=True"
      ],
      "metadata": {
        "id": "ar0QFGyVr7bn"
      },
      "execution_count": 2,
      "outputs": []
    },
    {
      "cell_type": "code",
      "source": [
        "def vehicle(v,t,u,load):\n",
        "    # inputs\n",
        "    #  v    = vehicle velocity (m/s)\n",
        "    #  t    = time (sec)\n",
        "    #  u    = gas pedal position (-50% to 100%)\n",
        "    #  load = passenger load + cargo (kg)\n",
        "    Cd = 0.24    # drag coefficient\n",
        "    rho = 1.225  # air density (kg/m^3)\n",
        "    A = 5.0      # cross-sectional area (m^2)\n",
        "    Fp = 30      # thrust parameter (N/%pedal)\n",
        "    m = 500      # vehicle mass (kg)\n",
        "    # calculate derivative of the velocity\n",
        "    dv_dt = (1.0/(m+load)) * (Fp*u - 0.5*rho*Cd*A*v**2)\n",
        "    return dv_dt"
      ],
      "metadata": {
        "id": "n33xnnsDsBPW"
      },
      "execution_count": 3,
      "outputs": []
    },
    {
      "cell_type": "code",
      "source": [
        "tf = 60.0                 # final time for simulation\n",
        "nsteps = 61               # number of time steps\n",
        "delta_t = tf/(nsteps-1)   # how long is each time step?\n",
        "ts = np.linspace(0,tf,nsteps) # linearly spaced time vector"
      ],
      "metadata": {
        "id": "HgoT-je8sEPd"
      },
      "execution_count": 4,
      "outputs": []
    },
    {
      "cell_type": "code",
      "source": [
        "# simulate step test operation\n",
        "step = np.zeros(nsteps) # u = valve % open\n",
        "step[11:] = 50.0       # step up pedal position\n",
        "# passenger(s) + cargo load\n",
        "load = 200.0 # kg\n",
        "# velocity initial condition\n",
        "v0 = 0.0\n",
        "# set point\n",
        "sp = 25.0\n",
        "# for storing the results\n",
        "vs = np.zeros(nsteps)\n",
        "sps = np.zeros(nsteps)"
      ],
      "metadata": {
        "id": "SPiuiRLAsIUD"
      },
      "execution_count": 5,
      "outputs": []
    },
    {
      "cell_type": "code",
      "source": [
        "plt.figure(1,figsize=(5,4))\n",
        "if animate:\n",
        "    plt.ion()\n",
        "    plt.show()"
      ],
      "metadata": {
        "colab": {
          "base_uri": "https://localhost:8080/",
          "height": 34
        },
        "id": "rKjgApTpsKja",
        "outputId": "33d13420-5da6-4ce6-cf6c-1bb20b22870e"
      },
      "execution_count": 6,
      "outputs": [
        {
          "output_type": "display_data",
          "data": {
            "text/plain": [
              "<Figure size 360x288 with 0 Axes>"
            ]
          },
          "metadata": {}
        }
      ]
    },
    {
      "cell_type": "code",
      "source": [
        "# simulate with ODEINT\n",
        "for i in range(nsteps-1):\n",
        "    u = step[i]\n",
        "    # clip inputs to -50% to 100%\n",
        "    if u >= 100.0:\n",
        "        u = 100.0\n",
        "    if u <= -50.0:\n",
        "        u = -50.0\n",
        "    v = odeint(vehicle,v0,[0,delta_t],args=(u,load))\n",
        "    v0 = v[-1]   # take the last value\n",
        "    vs[i+1] = v0 # store the velocity for plotting\n",
        "    sps[i+1] = sp\n",
        "\n",
        "    # plot results\n",
        "    if animate:\n",
        "        display.clear_output(wait=True)\n",
        "        plt.clf()\n",
        "        plt.subplot(2,1,1)\n",
        "        plt.plot(ts[0:i+1],vs[0:i+1],'b-',linewidth=3)\n",
        "        plt.plot(ts[0:i+1],sps[0:i+1],'k--',linewidth=2)\n",
        "        plt.ylabel('Velocity (m/s)')\n",
        "        plt.legend(['Velocity','Set Point'],loc=2)\n",
        "        plt.subplot(2,1,2)\n",
        "        plt.plot(ts[0:i+1],step[0:i+1],'r--',linewidth=3)\n",
        "        plt.ylabel('Gas Pedal')    \n",
        "        plt.legend(['Gas Pedal (%)'])\n",
        "        plt.xlabel('Time (sec)')\n",
        "        plt.pause(0.1)    "
      ],
      "metadata": {
        "colab": {
          "base_uri": "https://localhost:8080/",
          "height": 279
        },
        "id": "VllDvDrbsNfX",
        "outputId": "19b34fe1-1fa5-4f0a-f6fa-0e8efe124d7c"
      },
      "execution_count": 7,
      "outputs": [
        {
          "output_type": "display_data",
          "data": {
            "image/png": "[encoded data removed]",
            "text/plain": [
              "<Figure size 432x288 with 2 Axes>"
            ]
          },
          "metadata": {
            "needs_background": "light"
          }
        }
      ]
    },
    {
      "cell_type": "code",
      "source": [
        "if not animate:\n",
        "    # plot results\n",
        "    plt.subplot(2,1,1)\n",
        "    plt.plot(ts,vs,'b-',linewidth=3)\n",
        "    plt.plot(ts,sps,'k--',linewidth=2)\n",
        "    plt.ylabel('Velocity (m/s)')\n",
        "    plt.legend(['Velocity','Set Point'],loc=2)\n",
        "    plt.subplot(2,1,2)\n",
        "    plt.plot(ts,step,'r--',linewidth=3)\n",
        "    plt.ylabel('Gas Pedal')    \n",
        "    plt.legend(['Gas Pedal (%)'])\n",
        "    plt.xlabel('Time (sec)')\n",
        "    plt.show()"
      ],
      "metadata": {
        "id": "FQDiplzHsSNP"
      },
      "execution_count": 8,
      "outputs": []
    },
    {
      "cell_type": "code",
      "source": [
        ""
      ],
      "metadata": {
        "id": "0pD493KosaGY"
      },
      "execution_count": null,
      "outputs": []
    }
  ]
}